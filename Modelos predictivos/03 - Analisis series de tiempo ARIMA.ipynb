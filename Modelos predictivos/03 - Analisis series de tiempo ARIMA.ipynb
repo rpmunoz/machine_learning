{
 "cells": [
  {
   "cell_type": "markdown",
   "metadata": {},
   "source": [
    "# Análisis de serie de tiempo con ARIMA\n",
    "\n",
    "**Autor:** Roberto Muñoz <br />\n",
    "**E-mail:** <rmunoz@metricarts.com> <br />\n",
    "**Github:** <https://github.com/rpmunoz> <br />\n",
    "\n",
    "ARIMA o Modelo autorregresivo integrado de media móvil es un modelo estadístico que utiliza variaciones y regresiones de datos estadísticos con el fin de encontrar patrones para una predicción hacia el futuro. Se trata de un modelo dinámico de series temporales, es decir, las estimaciones futuras vienen explicadas por los datos del pasado y no por variables independientes.\n",
    "\n",
    "Usaremos la librería [Statsmodels](https://www.statsmodels.org) para hacer análisis estadístico."
   ]
  },
  {
   "cell_type": "markdown",
   "metadata": {},
   "source": [
    "## Importar librerías"
   ]
  },
  {
   "cell_type": "code",
   "execution_count": null,
   "metadata": {},
   "outputs": [],
   "source": [
    "# Import libraries\n",
    "import warnings\n",
    "import itertools\n",
    "import pandas as pd\n",
    "import numpy as np\n",
    "import matplotlib.pyplot as plt\n",
    "import statsmodels.api as sm\n",
    "\n",
    "# Defaults\n",
    "plt.rcParams['figure.figsize'] = (20.0, 10.0)\n",
    "plt.rcParams.update({'font.size': 12})\n",
    "plt.style.use('ggplot')"
   ]
  },
  {
   "cell_type": "markdown",
   "metadata": {},
   "source": [
    "Obtenemos los datos clásicos de pasajeros de aerolíneas internacionales, descargables desde la página web de DataMarket (https://datamarket.com/data/set/22u3/international-airline-passengers-monthly-totals-in-thousands-jan-49-dec-60#!ds=22u3&display=line)\n"
   ]
  },
  {
   "cell_type": "code",
   "execution_count": null,
   "metadata": {},
   "outputs": [],
   "source": [
    "# Load the data\n",
    "data_df = pd.read_csv('data/international-airline-passengers.csv', engine='python', skipfooter=3)\n",
    "data_df.head()"
   ]
  },
  {
   "cell_type": "code",
   "execution_count": null,
   "metadata": {},
   "outputs": [],
   "source": [
    "# Convertimos la columna month en datetime\n",
    "data_df['Month']=pd.to_datetime(data_df['Month'], format='%Y-%m-%d')\n",
    "data_df.set_index(['Month'], inplace=True)\n",
    "\n",
    "# Graficamos los datos\n",
    "data_df.plot()\n",
    "plt.ylabel('Monthly airline passengers (x1000)')\n",
    "plt.xlabel('Date')\n",
    "plt.show()"
   ]
  },
  {
   "cell_type": "markdown",
   "metadata": {},
   "source": [
    "Aparecen dos patrones obvios en los datos: un aumento general en el número de pasajeros a lo largo del tiempo y una estacionalidad de 12 meses con picos correspondientes al período de verano del hemisferio norte."
   ]
  },
  {
   "cell_type": "markdown",
   "metadata": {},
   "source": [
    "## ARIMA\n",
    "ARIMA significa Modelo autorregresivo integrado de media móvil. Hay tres enteros (p, d, q) que se utilizan para parametrizar los modelos ARIMA. Por eso, un modelo ARIMA no estacional se denota con ARIMA (p, d, q):\n",
    "<ul>\n",
    "<li> <strong> p </strong> es el número de términos autorregresivos (parte AR). Permite incorporar el efecto de valores pasados ​​en nuestro modelo. Intuitivamente, esto sería similar a afirmar que es probable que haga calor mañana si ha estado caliente los últimos 3 días. </li>\n",
    "<li> <strong> d </strong> es el número de diferencias no estacionales necesarias para la estacionariedad. Intuitivamente, esto sería similar a afirmar que es probable que sea la misma temperatura mañana si la diferencia de temperatura en los últimos tres días ha sido muy pequeña. </li>\n",
    "<li> <strong> q </strong> es el número de errores de pronóstico rezagados en la ecuación de predicción (parte MA). Esto nos permite establecer el error de nuestro modelo como una combinación lineal de los valores de error observados en puntos de tiempo anteriores en el pasado. </li>\n",
    "</ul>\n",
    "\n",
    "Cuando se trata de efectos estacionales, como en nuestro ejemplo, se usa ARIMA estacional, que se denota como ARIMA (p, d, q) (P, D, Q) s. Aquí, (p, d, q) son los parámetros no estacionales descritos anteriormente, (<strong> P, D, Q </strong>) siguen la misma definición pero se aplican al componente estacional de la serie de tiempo. El término <strong> s </strong> es la periodicidad de la serie temporal.\n",
    "\n",
    "Si bien en este caso está claro que s = 12, ¿cómo establecemos los otros parámetros?\n",
    "\n",
    "Se basa más o menos en la experiencia. Existen numerosas prácticas recomendadas que se pueden seguir para identificar los modelos ARIMA, como:\n",
    "http://people.duke.edu/~rnau/arimrule.htm.\n",
    "\n",
    "Aquí utilizamos la búsqueda de cuadrícula sobre todas las combinaciones posibles de valores de parámetros dentro de un rango predefinido de valores (fuertemente inspirado en https://www.digitalocean.com/community/tutorials/a-guide-to-time-series-forecasting-with-arima-in-python-3).\n",
    "\n",
    "$ statsmodels.tsa.statespace.sarimax.SARIMAXResults$ devuelve valores para AIC (Criterio de información de Akaike) y BIC (Criterio de información de Bayes) que se pueden minimizar para seleccionar el mejor modelo de ajuste. Usamos el valor AIC, que estima la información perdida cuando se usa un modelo dado para representar el proceso que genera los datos. Al hacerlo, se trata de la compensación entre la precisión de ajuste del modelo y la complejidad del modelo en sí."
   ]
  },
  {
   "cell_type": "code",
   "execution_count": null,
   "metadata": {},
   "outputs": [],
   "source": [
    "# Define the d and q parameters to take any value between 0 and 1\n",
    "q = d = range(0, 2)\n",
    "# Define the p parameters to take any value between 0 and 3\n",
    "p = range(0, 4)\n",
    "\n",
    "# Generate all different combinations of p, q and q triplets\n",
    "pdq = list(itertools.product(p, d, q))\n",
    "\n",
    "print(pdq)"
   ]
  },
  {
   "cell_type": "code",
   "execution_count": null,
   "metadata": {},
   "outputs": [],
   "source": [
    "# Generate all different combinations of seasonal p, q and q triplets\n",
    "seasonal_pdq = [(x[0], x[1], x[2], 12) for x in list(itertools.product(p, d, q))]\n",
    "\n",
    "print('Examples of parameter combinations for Seasonal ARIMA...')\n",
    "print('SARIMAX: {} x {}'.format(pdq[1], seasonal_pdq[1]))\n",
    "print('SARIMAX: {} x {}'.format(pdq[1], seasonal_pdq[2]))\n",
    "print('SARIMAX: {} x {}'.format(pdq[2], seasonal_pdq[3]))\n",
    "print('SARIMAX: {} x {}'.format(pdq[2], seasonal_pdq[4]))"
   ]
  },
  {
   "cell_type": "markdown",
   "metadata": {},
   "source": [
    "Seleccionamos un subconjunto de la serie de datos como datos de entrenamiento, digamos los primeros 11 años. Nuestro objetivo es predecir el último año de la serie en función de esta información."
   ]
  },
  {
   "cell_type": "code",
   "execution_count": null,
   "metadata": {},
   "outputs": [],
   "source": [
    "train_data = data['1949-01-01':'1959-12-01']\n",
    "test_data = data['1960-01-01':'1960-12-01']"
   ]
  },
  {
   "cell_type": "code",
   "execution_count": null,
   "metadata": {},
   "outputs": [],
   "source": [
    "warnings.filterwarnings(\"ignore\") # specify to ignore warning messages\n",
    "\n",
    "AIC = []\n",
    "SARIMAX_model = []\n",
    "for param in pdq:\n",
    "    for param_seasonal in seasonal_pdq:\n",
    "        try:\n",
    "            mod = sm.tsa.statespace.SARIMAX(train_data,\n",
    "                                            order=param,\n",
    "                                            seasonal_order=param_seasonal,\n",
    "                                            enforce_stationarity=False,\n",
    "                                            enforce_invertibility=False)\n",
    "\n",
    "            results = mod.fit()\n",
    "\n",
    "            print('SARIMAX{}x{} - AIC:{}'.format(param, param_seasonal, results.aic), end='\\r')\n",
    "            AIC.append(results.aic)\n",
    "            SARIMAX_model.append([param, param_seasonal])\n",
    "        except:\n",
    "            continue"
   ]
  },
  {
   "cell_type": "code",
   "execution_count": null,
   "metadata": {},
   "outputs": [],
   "source": [
    "print('El valor de AIC más pequeño es {} para el modelo SARIMAX{}x{}'.format(min(AIC), SARIMAX_model[AIC.index(min(AIC))][0],SARIMAX_model[AIC.index(min(AIC))][1]))\n"
   ]
  },
  {
   "cell_type": "code",
   "execution_count": null,
   "metadata": {},
   "outputs": [],
   "source": [
    "# Ajustemos el modelo\n",
    "mod = sm.tsa.statespace.SARIMAX(train_data,\n",
    "                                order=SARIMAX_model[AIC.index(min(AIC))][0],\n",
    "                                seasonal_order=SARIMAX_model[AIC.index(min(AIC))][1],\n",
    "                                enforce_stationarity=False,\n",
    "                                enforce_invertibility=False)\n",
    "\n",
    "results = mod.fit()"
   ]
  },
  {
   "cell_type": "code",
   "execution_count": null,
   "metadata": {},
   "outputs": [],
   "source": [
    "results.summary()"
   ]
  },
  {
   "cell_type": "markdown",
   "metadata": {},
   "source": [
    "Una vez que el modelo ha sido ajustado, podemos verificar si hace lo que esperamos y si se violan los supuestos que hicimos. Para hacer esto, podemos usar el método $ plot\\_diagnostics $."
   ]
  },
  {
   "cell_type": "code",
   "execution_count": null,
   "metadata": {
    "scrolled": true
   },
   "outputs": [],
   "source": [
    "results.plot_diagnostics(figsize=(20, 14))\n",
    "plt.show()"
   ]
  },
  {
   "cell_type": "markdown",
   "metadata": {},
   "source": [
    "En las gráficas anteriores, podemos observar que los residuos no están correlacionados (gráfica inferior derecha) y no exhiben ninguna estacionalidad obvia (la gráfica superior izquierda). Además, los residuos y aproximadamente distribuidos normalmente con media cero (gráfico superior derecho). El gráfico qq en la parte inferior izquierda muestra que la distribución ordenada de los residuos (puntos azules) sigue fielmente la tendencia lineal de las muestras tomadas de una distribución normal estándar con N (0, 1). Nuevamente, esta es una fuerte indicación de que los residuos se distribuyen normalmente."
   ]
  },
  {
   "cell_type": "markdown",
   "metadata": {},
   "source": [
    "## Resultados\n",
    "\n",
    "Haremos algunas predicciones. Usaremos tres métodos,"
   ]
  },
  {
   "cell_type": "markdown",
   "metadata": {},
   "source": [
    "1. En una predicción de muestra con predicción de 1 paso del año pasado (1959). En este caso, el modelo se usa para predecir datos sobre los que se construyó el modelo. El pronóstico de 1 paso adelante implica que cada punto pronosticado se usa para predecir el siguiente."
   ]
  },
  {
   "cell_type": "code",
   "execution_count": null,
   "metadata": {},
   "outputs": [],
   "source": [
    "pred0 = results.get_prediction(start='1958-01-01', dynamic=False)\n",
    "pred0_ci = pred0.conf_int()"
   ]
  },
  {
   "cell_type": "markdown",
   "metadata": {},
   "source": [
    "2. En predicción de muestra con pronóstico dinámico del último año (1959). Nuevamente, el modelo se usa para predecir datos sobre los que se construyó el modelo."
   ]
  },
  {
   "cell_type": "code",
   "execution_count": null,
   "metadata": {},
   "outputs": [],
   "source": [
    "pred1 = results.get_prediction(start='1958-01-01', dynamic=True)\n",
    "pred1_ci = pred1.conf_int()"
   ]
  },
  {
   "cell_type": "markdown",
   "metadata": {},
   "source": [
    "3. Previsión \"verdadera\" de datos fuera de la muestra. En este caso, se le pide al modelo que prediga datos que no ha visto antes."
   ]
  },
  {
   "cell_type": "code",
   "execution_count": null,
   "metadata": {},
   "outputs": [],
   "source": [
    "pred2 = results.get_forecast('1962-12-01')\n",
    "pred2_ci = pred2.conf_int()\n",
    "\n",
    "print(pred2.predicted_mean['1960-01-01':'1960-12-01'])"
   ]
  },
  {
   "cell_type": "markdown",
   "metadata": {},
   "source": [
    "Grafiquemos estas tres predicciones"
   ]
  },
  {
   "cell_type": "code",
   "execution_count": null,
   "metadata": {},
   "outputs": [],
   "source": [
    "ax = data.plot(figsize=(20, 16))\n",
    "pred0.predicted_mean.plot(ax=ax, label='1-step-ahead Forecast (get_predictions, dynamic=False)')\n",
    "pred1.predicted_mean.plot(ax=ax, label='Dynamic Forecast (get_predictions, dynamic=True)')\n",
    "pred2.predicted_mean.plot(ax=ax, label='Dynamic Forecast (get_forecast)')\n",
    "ax.fill_between(pred2_ci.index, pred2_ci.iloc[:, 0], pred2_ci.iloc[:, 1], color='k', alpha=.1)\n",
    "plt.ylabel('Monthly airline passengers (x1000)')\n",
    "plt.xlabel('Date')\n",
    "plt.legend()\n",
    "plt.show()"
   ]
  },
  {
   "cell_type": "markdown",
   "metadata": {},
   "source": [
    "Mirando la figura, el modelo parece hacer un muy buen trabajo al modelar la serie temporal. Las líneas azules y púrpuras son, como se esperaba, muy cercanas a la verdad del fondo rojo. Lo que es más interesante es la línea gris, la predincción fuera de la muestra. Para una serie temporal tan simple, el modelo ARIMA puede pronosticar los valores de 1960 con precisión."
   ]
  },
  {
   "cell_type": "markdown",
   "metadata": {},
   "source": [
    "Para cuantificar la precisión de la predicción para 1960, podemos calcular métricas como Error absoluto medio (MAE), Error cuadrado medio (MSE) o Error cuadrado medio raíz (RMSE).\n",
    "\n",
    "Estas son todas métricas absolutas, por lo tanto, dependen de la escala. Si bien son útiles y se usan ampliamente para comparar diferentes métodos en un mismo conjunto de datos, aquí sería más útil expresar el error en relación con la magnitud de la serie de tiempo que estamos tratando de predecir. Una medida de error porcentual de uso común es el error porcentual absoluto medio (MAPE). Tiene algunos inconvenientes en casos especiales (en particular, puede conducir a la división por cero) y se han propuesto medidas mejoradas, ver p. Ej. https://www.otexts.org/fpp/2/5 para una buena visión general. Sin embargo, para este ejemplo nos quedaremos con MAPE."
   ]
  },
  {
   "cell_type": "code",
   "execution_count": null,
   "metadata": {},
   "outputs": [],
   "source": [
    "prediction = pred2.predicted_mean['1960-01-01':'1960-12-01'].values\n",
    "# flatten nested list\n",
    "truth = list(itertools.chain.from_iterable(test_data.values))\n",
    "# Mean Absolute Percentage Error\n",
    "MAPE = np.mean(np.abs((truth - prediction) / truth)) * 100\n",
    "\n",
    "print('The Mean Absolute Percentage Error for the forecast of year 1960 is {:.2f}%'.format(MAPE))"
   ]
  },
  {
   "cell_type": "markdown",
   "metadata": {},
   "source": []
  },
  {
   "cell_type": "code",
   "execution_count": null,
   "metadata": {},
   "outputs": [],
   "source": []
  }
 ],
 "metadata": {
  "kernelspec": {
   "display_name": "Python 3",
   "language": "python",
   "name": "python3"
  },
  "language_info": {
   "codemirror_mode": {
    "name": "ipython",
    "version": 3
   },
   "file_extension": ".py",
   "mimetype": "text/x-python",
   "name": "python",
   "nbconvert_exporter": "python",
   "pygments_lexer": "ipython3",
   "version": "3.7.3"
  }
 },
 "nbformat": 4,
 "nbformat_minor": 4
}
